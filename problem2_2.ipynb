{
  "nbformat": 4,
  "nbformat_minor": 0,
  "metadata": {
    "colab": {
      "provenance": []
    },
    "kernelspec": {
      "name": "python3",
      "display_name": "Python 3"
    },
    "language_info": {
      "name": "python"
    }
  },
  "cells": [
    {
      "cell_type": "code",
      "execution_count": null,
      "metadata": {
        "colab": {
          "base_uri": "https://localhost:8080/"
        },
        "id": "jSK55VHuN7An",
        "outputId": "84fd2318-aeb4-4b78-8b4e-69a058777941"
      },
      "outputs": [
        {
          "output_type": "stream",
          "name": "stdout",
          "text": [
            "Lowest payment: 425.0\n"
          ]
        }
      ],
      "source": [
        "balance = 5000\n",
        "annualInterestRate = 0.18\n",
        "monthlyInterestRate = (annualInterestRate / 12)\n",
        "\n",
        "minMonthlyPayment = (balance * monthlyInterestRate)\n",
        "month = 0\n",
        "\n",
        "while True:\n",
        "  remaining_balance = balance\n",
        "  for month in range(1, 13):\n",
        "    remaining_balance -= minMonthlyPayment\n",
        "  if remaining_balance > 0:\n",
        "      minMonthlyPayment += 10\n",
        "      remaining_balance = balance\n",
        "  else:\n",
        "      print('Lowest payment: {0}' .format(minMonthlyPayment))\n",
        "      break\n"
      ]
    }
  ]
}