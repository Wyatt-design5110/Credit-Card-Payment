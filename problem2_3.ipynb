{
  "nbformat": 4,
  "nbformat_minor": 0,
  "metadata": {
    "colab": {
      "provenance": []
    },
    "kernelspec": {
      "name": "python3",
      "display_name": "Python 3"
    },
    "language_info": {
      "name": "python"
    }
  },
  "cells": [
    {
      "cell_type": "code",
      "execution_count": null,
      "metadata": {
        "colab": {
          "base_uri": "https://localhost:8080/"
        },
        "id": "6U_RF2BI4qJv",
        "outputId": "d9d52331-0af3-4e91-fd2a-6d1029aedc60"
      },
      "outputs": [
        {
          "output_type": "stream",
          "name": "stdout",
          "text": [
            "current guess 2950.0\n"
          ]
        }
      ],
      "source": [
        "balance = 5000\n",
        "annualInterestRate = 0.18\n",
        "\n",
        "low = 0\n",
        "high = balance * (1 + annualInterestRate)\n",
        "payment = (low + high) / 2\n",
        "\n",
        "print('current guess', payment)\n"
      ]
    },
    {
      "cell_type": "code",
      "source": [
        "total_count = 0\n",
        "\n",
        "while True:\n",
        "  total_count += 1\n",
        "  if total_count >100:\n",
        "    break\n",
        "  remaining_balance = balance\n",
        "  payment = ( (low + high) / 2)\n",
        "\n",
        "  for month in range (1, 13):\n",
        "    remaining_balance -= payment\n",
        "    remaining_balance += remaining_balance * (annualInterestRate / 12.0)\n",
        "\n",
        "  if 0 < remaining_balance <= 0.01 or abs(high - low) == 0.01:\n",
        "    print('Lowest Payment: ', round(payment, 2))\n",
        "    break\n",
        "\n"
      ],
      "metadata": {
        "colab": {
          "base_uri": "https://localhost:8080/"
        },
        "id": "OaEYl3Uw4rvx",
        "outputId": "a5618df8-0a6d-46cd-b654-2e29e807c90a"
      },
      "execution_count": null,
      "outputs": [
        {
          "output_type": "stream",
          "name": "stdout",
          "text": [
            "Lowest Payment:  451.63\n"
          ]
        }
      ]
    }
  ]
}