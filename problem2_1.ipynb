{
  "nbformat": 4,
  "nbformat_minor": 0,
  "metadata": {
    "colab": {
      "provenance": []
    },
    "kernelspec": {
      "name": "python3",
      "display_name": "Python 3"
    },
    "language_info": {
      "name": "python"
    }
  },
  "cells": [
    {
      "cell_type": "code",
      "source": [
        "balance = 5000\n",
        "annualInterestRate = 0.18\n",
        "monthlyPaymentRate = 0.02\n",
        "\n",
        "def remaining_balance(balance, annualInterestRate, monthlyPaymentRate):\n",
        "    monthlyInterestRate = annualInterestRate / 12\n",
        "    total_payment = 0\n",
        "\n",
        "    for month in range(1, 13):\n",
        "        minMonthlyPayment = balance * monthlyPaymentRate\n",
        "        total_payment += minMonthlyPayment\n",
        "\n",
        "        unpaid_balance = balance - minMonthlyPayment\n",
        "        balance = unpaid_balance + (monthlyInterestRate * unpaid_balance)\n",
        "\n",
        "        print(\"Month: {}\".format(month))\n",
        "        print(\"Minimum monthly payment: ${}\".format(round(minMonthlyPayment, 2)))\n",
        "        print(\"Remaining balance: ${}\".format(round(balance, 2)))\n",
        "        print(\"----------------\")\n",
        "\n",
        "    print(\"Total paid: ${}\".format(round(total_payment, 2)))\n",
        "    print(\"Remaining balance: ${}\".format(round(balance, 2)))\n",
        "\n",
        "remaining_balance(balance, annualInterestRate, monthlyPaymentRate)\n"
      ],
      "metadata": {
        "colab": {
          "base_uri": "https://localhost:8080/"
        },
        "id": "-xJQT2AKk6_w",
        "outputId": "3de8be4b-5537-4019-87c0-dc9adb173df5"
      },
      "execution_count": null,
      "outputs": [
        {
          "output_type": "stream",
          "name": "stdout",
          "text": [
            "Month: 1\n",
            "Minimum monthly payment: $100.0\n",
            "Remaining balance: $4973.5\n",
            "----------------\n",
            "Month: 2\n",
            "Minimum monthly payment: $99.47\n",
            "Remaining balance: $4947.14\n",
            "----------------\n",
            "Month: 3\n",
            "Minimum monthly payment: $98.94\n",
            "Remaining balance: $4920.92\n",
            "----------------\n",
            "Month: 4\n",
            "Minimum monthly payment: $98.42\n",
            "Remaining balance: $4894.84\n",
            "----------------\n",
            "Month: 5\n",
            "Minimum monthly payment: $97.9\n",
            "Remaining balance: $4868.9\n",
            "----------------\n",
            "Month: 6\n",
            "Minimum monthly payment: $97.38\n",
            "Remaining balance: $4843.09\n",
            "----------------\n",
            "Month: 7\n",
            "Minimum monthly payment: $96.86\n",
            "Remaining balance: $4817.42\n",
            "----------------\n",
            "Month: 8\n",
            "Minimum monthly payment: $96.35\n",
            "Remaining balance: $4791.89\n",
            "----------------\n",
            "Month: 9\n",
            "Minimum monthly payment: $95.84\n",
            "Remaining balance: $4766.49\n",
            "----------------\n",
            "Month: 10\n",
            "Minimum monthly payment: $95.33\n",
            "Remaining balance: $4741.23\n",
            "----------------\n",
            "Month: 11\n",
            "Minimum monthly payment: $94.82\n",
            "Remaining balance: $4716.1\n",
            "----------------\n",
            "Month: 12\n",
            "Minimum monthly payment: $94.32\n",
            "Remaining balance: $4691.11\n",
            "----------------\n",
            "Total paid: $1165.63\n",
            "Remaining balance: $4691.11\n"
          ]
        }
      ]
    }
  ]
}